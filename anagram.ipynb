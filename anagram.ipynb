{
  "nbformat": 4,
  "nbformat_minor": 0,
  "metadata": {
    "colab": {
      "name": "anagram.ipynb",
      "provenance": [],
      "authorship_tag": "ABX9TyPOngetNqfy2V0C90n03TlD",
      "include_colab_link": true
    },
    "kernelspec": {
      "name": "python3",
      "display_name": "Python 3"
    },
    "language_info": {
      "name": "python"
    }
  },
  "cells": [
    {
      "cell_type": "markdown",
      "metadata": {
        "id": "view-in-github",
        "colab_type": "text"
      },
      "source": [
        "<a href=\"https://colab.research.google.com/github/KamaruddinSk/Python-coding/blob/main/anagram.ipynb\" target=\"_parent\"><img src=\"https://colab.research.google.com/assets/colab-badge.svg\" alt=\"Open In Colab\"/></a>"
      ]
    },
    {
      "cell_type": "markdown",
      "source": [
        "## Check two strings are anagram or not\n",
        "\n",
        "---\n",
        "### Anagram examples\n",
        "\n",
        "\n",
        "|                  |                  |              |\n",
        "|-------------------|------------------|--------------|\n",
        "|angel = glean | arc = car | brag = grab |\n",
        "|bored = robed | cat = act | cider = cried |\n",
        "|dusty = study | elbow = below | inch = chin |\n",
        "|night = thing | peach = cheap | players = parsley |\n",
        "|sadder = dreads | save = vase | state = taste |\n",
        "|                |                    |               |\n",
        "\n",
        "---\n",
        "\n",
        "Approach 1\n"
      ],
      "metadata": {
        "id": "gC33HMzEqSMh"
      }
    },
    {
      "cell_type": "code",
      "source": [
        "str1 = input(\"Enter the first word: \")\n",
        "str2 = input(\"Enter the second word:\")\n",
        "assert len(str1) == len(str2), \"Length of the second string should be same as first.\""
      ],
      "metadata": {
        "colab": {
          "base_uri": "https://localhost:8080/"
        },
        "id": "-QCWqQuiqj28",
        "outputId": "509bee7d-72a5-4e19-8cea-8cf75d1f3e6c"
      },
      "execution_count": 1,
      "outputs": [
        {
          "name": "stdout",
          "output_type": "stream",
          "text": [
            "Enter the first word: dusty\n",
            "Enter the second word:study\n"
          ]
        }
      ]
    },
    {
      "cell_type": "code",
      "execution_count": 2,
      "metadata": {
        "colab": {
          "base_uri": "https://localhost:8080/"
        },
        "id": "6z0GRzZ0njq3",
        "outputId": "efa3244e-451e-40d9-a964-dde75ab968ed"
      },
      "outputs": [
        {
          "output_type": "stream",
          "name": "stdout",
          "text": [
            "The string is anagram\n"
          ]
        }
      ],
      "source": [
        "lst1 = list(str1)\n",
        "lst2 = list(str2)\n",
        "\n",
        "lst1.sort()\n",
        "lst2.sort()\n",
        "\n",
        "if lst1 == lst2:\n",
        "  print(\"The string is anagram\")\n",
        "else:\n",
        "  print(\"The string is not anagram\")"
      ]
    },
    {
      "cell_type": "markdown",
      "source": [
        "Approach 2"
      ],
      "metadata": {
        "id": "4v-FWCATqo8k"
      }
    },
    {
      "cell_type": "code",
      "source": [
        "str1 = input(\"Enter the first word: \")\n",
        "str2 = input(\"Enter the second word:\")\n",
        "assert len(str1) == len(str2), \"Length of the second string should be same as first.\""
      ],
      "metadata": {
        "colab": {
          "base_uri": "https://localhost:8080/"
        },
        "id": "7e9CodjXqoAj",
        "outputId": "246fdb42-142d-4f76-e3e6-ad53bd594b63"
      },
      "execution_count": 3,
      "outputs": [
        {
          "name": "stdout",
          "output_type": "stream",
          "text": [
            "Enter the first word: state\n",
            "Enter the second word:taste\n"
          ]
        }
      ]
    },
    {
      "cell_type": "code",
      "source": [
        "lst1 = list(str1)\n",
        "lst2 = list(str2)"
      ],
      "metadata": {
        "id": "wtXwAutOqxX8"
      },
      "execution_count": 4,
      "outputs": []
    },
    {
      "cell_type": "code",
      "source": [
        "# # if not using count() method of list, then use the following code\n",
        "# def count(lst,i):\n",
        "#   count = 0\n",
        "#   for k in lst:\n",
        "#     if k == i:\n",
        "#       count+=1\n",
        "#   return count\n",
        "\n",
        "# def create_dict_new(lst):\n",
        "#   char_dict = dict()\n",
        "#   for i in lst:\n",
        "#     char_dict[i] = count(lst,i)\n",
        "#   return char_dict\n",
        "\n",
        "# str1_dict = create_dict_new(lst1)\n",
        "# str2_dict = create_dict_new(lst2)\n",
        "\n",
        "# print(str1_dict)\n",
        "# print(str2_dict)"
      ],
      "metadata": {
        "id": "jnsDIoobq3Qc"
      },
      "execution_count": 5,
      "outputs": []
    },
    {
      "cell_type": "code",
      "source": [
        "def create_dict(lst):\n",
        "  char_dict = dict()\n",
        "  # dictionary created with the individual character of the string as key and the count of occurence as value in the dictionary\n",
        "  for i in lst:\n",
        "    char_dict[i] = lst.count(i)\n",
        "  return char_dict"
      ],
      "metadata": {
        "id": "1ck_s5dTq-M0"
      },
      "execution_count": 6,
      "outputs": []
    },
    {
      "cell_type": "code",
      "source": [
        "str1_dict = create_dict(lst1)\n",
        "str2_dict = create_dict(lst2)\n",
        "\n",
        "print(str1_dict)\n",
        "print(str2_dict)"
      ],
      "metadata": {
        "colab": {
          "base_uri": "https://localhost:8080/"
        },
        "id": "7rGEJALAq93c",
        "outputId": "fb618b0f-eeca-42e6-b358-e3b91951ff21"
      },
      "execution_count": 7,
      "outputs": [
        {
          "output_type": "stream",
          "name": "stdout",
          "text": [
            "{'s': 1, 't': 2, 'a': 1, 'e': 1}\n",
            "{'t': 2, 'a': 1, 's': 1, 'e': 1}\n"
          ]
        }
      ]
    },
    {
      "cell_type": "code",
      "source": [
        "print(str1_dict.keys())\n",
        "print(str1_dict.values())"
      ],
      "metadata": {
        "colab": {
          "base_uri": "https://localhost:8080/"
        },
        "id": "7upXnv29rECP",
        "outputId": "36404497-f680-409f-c7f4-8c0d91c4444a"
      },
      "execution_count": 8,
      "outputs": [
        {
          "output_type": "stream",
          "name": "stdout",
          "text": [
            "dict_keys(['s', 't', 'a', 'e'])\n",
            "dict_values([1, 2, 1, 1])\n"
          ]
        }
      ]
    },
    {
      "cell_type": "code",
      "source": [
        "if str1_dict == str2_dict:\n",
        "  print(\"The string is anagram\")\n",
        "else:\n",
        "  print(\"The string is not anagram\")"
      ],
      "metadata": {
        "colab": {
          "base_uri": "https://localhost:8080/"
        },
        "id": "Ucr-yw6erHbt",
        "outputId": "04e46a92-d278-46ee-e6cc-e36fa2812ef8"
      },
      "execution_count": 9,
      "outputs": [
        {
          "output_type": "stream",
          "name": "stdout",
          "text": [
            "The string is anagram\n"
          ]
        }
      ]
    }
  ]
}