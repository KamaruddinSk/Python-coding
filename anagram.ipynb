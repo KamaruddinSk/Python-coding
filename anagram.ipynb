{
  "nbformat": 4,
  "nbformat_minor": 0,
  "metadata": {
    "colab": {
      "name": "anagram.ipynb",
      "provenance": [],
      "authorship_tag": "ABX9TyNBHdwOKVypcsQhQWOlnHKd",
      "include_colab_link": true
    },
    "kernelspec": {
      "name": "python3",
      "display_name": "Python 3"
    },
    "language_info": {
      "name": "python"
    }
  },
  "cells": [
    {
      "cell_type": "markdown",
      "metadata": {
        "id": "view-in-github",
        "colab_type": "text"
      },
      "source": [
        "<a href=\"https://colab.research.google.com/github/KamaruddinSk/Python-coding/blob/main/anagram.ipynb\" target=\"_parent\"><img src=\"https://colab.research.google.com/assets/colab-badge.svg\" alt=\"Open In Colab\"/></a>"
      ]
    },
    {
      "cell_type": "markdown",
      "source": [
        "Code to detect whether two strings are anagram or not. (Anagram means a string formed by rearranging the letters of another string)"
      ],
      "metadata": {
        "id": "_M2RGToTvWlr"
      }
    },
    {
      "cell_type": "code",
      "execution_count": null,
      "metadata": {
        "colab": {
          "base_uri": "https://localhost:8080/"
        },
        "id": "AIu4eXiXvPQE",
        "outputId": "db1b3b25-c842-4574-9541-a87f93898b62"
      },
      "outputs": [
        {
          "name": "stdout",
          "output_type": "stream",
          "text": [
            "Enter the first string(a word): night\n",
            "Enter the second string(a word with same length as of first): thing\n"
          ]
        }
      ],
      "source": [
        "str1 = input(\"Enter the first string(a word): \")\n",
        "str2 = input(\"Enter the second string(a word with same length as of first): \")\n",
        "assert len(str1) == len(str2), \"Both strings should be of equal length\""
      ]
    },
    {
      "cell_type": "code",
      "source": [
        "str1_list = list(str1)\n",
        "str2_list = list(str2)\n",
        "str1_list.sort()\n",
        "str2_list.sort()\n",
        "\n",
        "if str1_list == str2_list:\n",
        "    print(\"The strings are anagrams\")\n",
        "else:\n",
        "    print(\"The strings are not anagrams\")"
      ],
      "metadata": {
        "colab": {
          "base_uri": "https://localhost:8080/"
        },
        "id": "-0gdrmWnxIo2",
        "outputId": "8369ad6c-5280-4d28-edde-440e18109e4d"
      },
      "execution_count": null,
      "outputs": [
        {
          "output_type": "stream",
          "name": "stdout",
          "text": [
            "The strings are anagrams\n"
          ]
        }
      ]
    }
  ]
}