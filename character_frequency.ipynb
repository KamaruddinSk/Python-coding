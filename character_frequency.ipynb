{
  "nbformat": 4,
  "nbformat_minor": 0,
  "metadata": {
    "colab": {
      "name": "character_frequency.ipynb",
      "provenance": [],
      "authorship_tag": "ABX9TyPmjgKs4PqpxPkYRbh5c/nC",
      "include_colab_link": true
    },
    "kernelspec": {
      "name": "python3",
      "display_name": "Python 3"
    },
    "language_info": {
      "name": "python"
    }
  },
  "cells": [
    {
      "cell_type": "markdown",
      "metadata": {
        "id": "view-in-github",
        "colab_type": "text"
      },
      "source": [
        "<a href=\"https://colab.research.google.com/github/KamaruddinSk/Python-coding/blob/main/character_frequency.ipynb\" target=\"_parent\"><img src=\"https://colab.research.google.com/assets/colab-badge.svg\" alt=\"Open In Colab\"/></a>"
      ]
    },
    {
      "cell_type": "markdown",
      "source": [
        "To calculate the count of each alphabet present in a given string."
      ],
      "metadata": {
        "id": "9uo57b2wJpc9"
      }
    },
    {
      "cell_type": "code",
      "execution_count": 1,
      "metadata": {
        "colab": {
          "base_uri": "https://localhost:8080/"
        },
        "id": "n6ClLfvQJoCZ",
        "outputId": "8aac4993-9836-4a12-cb88-2e1e2fe1c356"
      },
      "outputs": [
        {
          "output_type": "stream",
          "name": "stdout",
          "text": [
            "Enter a sentence(without any special character): The quick brown fox jumps over the lazy dog\n",
            "The frequency of characters are as follows...\n",
            "a:1\n",
            "b:1\n",
            "c:1\n",
            "d:1\n",
            "e:3\n",
            "f:1\n",
            "g:1\n",
            "h:2\n",
            "i:1\n",
            "j:1\n",
            "k:1\n",
            "l:1\n",
            "m:1\n",
            "n:1\n",
            "o:4\n",
            "p:1\n",
            "q:1\n",
            "r:2\n",
            "s:1\n",
            "t:2\n",
            "u:2\n",
            "v:1\n",
            "w:1\n",
            "x:1\n",
            "y:1\n",
            "z:1\n"
          ]
        }
      ],
      "source": [
        "snt = input(\"Enter a sentence(without any special character): \")\n",
        "# remove the blank spaces and join the words to a single string\n",
        "snt_string = ''.join(snt.lower().split(' '))\n",
        "\n",
        "# create a dictionary with all alphabets and its counts\n",
        "char_dict = dict()\n",
        "for i in snt_string:\n",
        "    char_dict[i] = snt_string.count(i)\n",
        "\n",
        "print(\"The frequency of characters are as follows...\")\n",
        "for i in sorted(char_dict):\n",
        "    print(\"{}:{}\".format(i, char_dict[i]))"
      ]
    }
  ]
}