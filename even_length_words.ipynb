{
  "nbformat": 4,
  "nbformat_minor": 0,
  "metadata": {
    "colab": {
      "name": "even_length_words.ipynb",
      "provenance": [],
      "authorship_tag": "ABX9TyN/aM2tkcFFtT+TvJVAu0/U",
      "include_colab_link": true
    },
    "kernelspec": {
      "name": "python3",
      "display_name": "Python 3"
    },
    "language_info": {
      "name": "python"
    }
  },
  "cells": [
    {
      "cell_type": "markdown",
      "metadata": {
        "id": "view-in-github",
        "colab_type": "text"
      },
      "source": [
        "<a href=\"https://colab.research.google.com/github/KamaruddinSk/Python-coding/blob/main/even_length_words.ipynb\" target=\"_parent\"><img src=\"https://colab.research.google.com/assets/colab-badge.svg\" alt=\"Open In Colab\"/></a>"
      ]
    },
    {
      "cell_type": "markdown",
      "source": [
        "Program to print even length words in a string"
      ],
      "metadata": {
        "id": "ZgWqHUXenV-0"
      }
    },
    {
      "cell_type": "code",
      "execution_count": 1,
      "metadata": {
        "colab": {
          "base_uri": "https://localhost:8080/"
        },
        "id": "XtIZTw--nULT",
        "outputId": "e16ab7e3-6cca-4790-de29-001168cb2633"
      },
      "outputs": [
        {
          "output_type": "stream",
          "name": "stdout",
          "text": [
            "Enter a string: The quick brown fox jumps over the lazy dog\n",
            "over\n",
            "lazy\n"
          ]
        }
      ],
      "source": [
        "string = input(\"Enter a string: \")\n",
        "str_list = string.split(' ') \n",
        "for i in str_list:\n",
        "    if len(i) % 2 == 0:\n",
        "        print(i)"
      ]
    }
  ]
}