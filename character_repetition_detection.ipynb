{
  "nbformat": 4,
  "nbformat_minor": 0,
  "metadata": {
    "colab": {
      "name": "character_repetition_detection.ipynb",
      "provenance": [],
      "authorship_tag": "ABX9TyPK/6nB+gUFitfDiF5N00v2",
      "include_colab_link": true
    },
    "kernelspec": {
      "name": "python3",
      "display_name": "Python 3"
    },
    "language_info": {
      "name": "python"
    }
  },
  "cells": [
    {
      "cell_type": "markdown",
      "metadata": {
        "id": "view-in-github",
        "colab_type": "text"
      },
      "source": [
        "<a href=\"https://colab.research.google.com/github/KamaruddinSk/Python-coding/blob/main/character_repetition_detection.ipynb\" target=\"_parent\"><img src=\"https://colab.research.google.com/assets/colab-badge.svg\" alt=\"Open In Colab\"/></a>"
      ]
    },
    {
      "cell_type": "code",
      "execution_count": 2,
      "metadata": {
        "colab": {
          "base_uri": "https://localhost:8080/"
        },
        "id": "dfepd43BaQ8n",
        "outputId": "627d8a39-f80c-49bb-c798-fe7ae586e256"
      },
      "outputs": [
        {
          "output_type": "stream",
          "name": "stdout",
          "text": [
            "Enter a word: coconut\n",
            "C appeared 2 times\n",
            "O appeared 2 times\n"
          ]
        }
      ],
      "source": [
        "word = input(\"Enter a word: \")\n",
        "visited = []\n",
        "count = 0\n",
        "flag = False\n",
        "for ch in word:\n",
        "    for val in range(word.index(ch), len(word)):\n",
        "        if ch.lower() == word[val].lower():\n",
        "            count +=1\n",
        "    if count >= 2 and ch.lower() not in visited:\n",
        "        visited.append(ch.lower())\n",
        "        flag = True\n",
        "        print(\"%s appeared %d times\" % (ch.upper(), count))\n",
        "    count = 0 \n",
        "if flag == False:\n",
        "    print(\"No character repeated.\")"
      ]
    }
  ]
}